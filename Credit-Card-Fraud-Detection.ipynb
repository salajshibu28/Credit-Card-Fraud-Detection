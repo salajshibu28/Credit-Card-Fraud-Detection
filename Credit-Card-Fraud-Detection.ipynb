{
 "cells": [
  {
   "cell_type": "code",
   "execution_count": 18,
   "id": "fbd6b5ae",
   "metadata": {
    "scrolled": true
   },
   "outputs": [
    {
     "name": "stdout",
     "output_type": "stream",
     "text": [
      "<class 'pandas.core.frame.DataFrame'>\n",
      "RangeIndex: 284807 entries, 0 to 284806\n",
      "Data columns (total 31 columns):\n",
      " #   Column  Non-Null Count   Dtype  \n",
      "---  ------  --------------   -----  \n",
      " 0   Time    284807 non-null  float64\n",
      " 1   V1      284807 non-null  float64\n",
      " 2   V2      284807 non-null  float64\n",
      " 3   V3      284807 non-null  float64\n",
      " 4   V4      284807 non-null  float64\n",
      " 5   V5      284807 non-null  float64\n",
      " 6   V6      284807 non-null  float64\n",
      " 7   V7      284807 non-null  float64\n",
      " 8   V8      284807 non-null  float64\n",
      " 9   V9      284807 non-null  float64\n",
      " 10  V10     284807 non-null  float64\n",
      " 11  V11     284807 non-null  float64\n",
      " 12  V12     284807 non-null  float64\n",
      " 13  V13     284807 non-null  float64\n",
      " 14  V14     284807 non-null  float64\n",
      " 15  V15     284807 non-null  float64\n",
      " 16  V16     284807 non-null  float64\n",
      " 17  V17     284807 non-null  float64\n",
      " 18  V18     284807 non-null  float64\n",
      " 19  V19     284807 non-null  float64\n",
      " 20  V20     284807 non-null  float64\n",
      " 21  V21     284807 non-null  float64\n",
      " 22  V22     284807 non-null  float64\n",
      " 23  V23     284807 non-null  float64\n",
      " 24  V24     284807 non-null  float64\n",
      " 25  V25     284807 non-null  float64\n",
      " 26  V26     284807 non-null  float64\n",
      " 27  V27     284807 non-null  float64\n",
      " 28  V28     284807 non-null  float64\n",
      " 29  Amount  284807 non-null  float64\n",
      " 30  Class   284807 non-null  int64  \n",
      "dtypes: float64(30), int64(1)\n",
      "memory usage: 67.4 MB\n"
     ]
    }
   ],
   "source": [
    "import pandas as pd\n",
    "import numpy as np\n",
    "from sklearn.model_selection import train_test_split\n",
    "from sklearn.preprocessing import StandardScaler\n",
    "from sklearn.metrics import classification_report, confusion_matrix, roc_auc_score\n",
    "import tensorflow as tf\n",
    "from tensorflow.keras.models import Sequential\n",
    "from tensorflow.keras.layers import Dense, Dropout\n",
    "\n",
    "# Data processing\n",
    "# Load the dataset\n",
    "df = pd.read_csv('creditcard.csv')\n",
    "\n",
    "df.info()"
   ]
  },
  {
   "cell_type": "code",
   "execution_count": 13,
   "id": "2a407d81",
   "metadata": {},
   "outputs": [],
   "source": [
    "# Preprocessing\n",
    "# Scale the 'Amount' column using StandardScaler\n",
    "scaler = StandardScaler()\n",
    "df['scaled_amount'] = scaler.fit_transform(df['Amount'].values.reshape(-1, 1))\n",
    "\n",
    "# Drop unnecessary columns 'Time' and 'Amount'\n",
    "df.drop(['Time', 'Amount'], axis=1, inplace=True)\n",
    "\n",
    "# Splitting into train and test sets\n",
    "X = df.drop('Class', axis=1).values\n",
    "y = df['Class'].values\n",
    "X_train, X_test, y_train, y_test = train_test_split(X, y, test_size=0.2, random_state=42)"
   ]
  },
  {
   "cell_type": "code",
   "execution_count": 14,
   "id": "8cfd5fc3",
   "metadata": {},
   "outputs": [],
   "source": [
    "# Model\n",
    "# Build the model\n",
    "model = Sequential()\n",
    "\n",
    "# Add a dense layer with 128 neurons and ReLU activation as the first layer\n",
    "model.add(Dense(128, activation='relu', input_shape=(X_train.shape[1],)))\n",
    "\n",
    "# Add a dropout layer with 40% dropout rate to reduce overfitting\n",
    "model.add(Dropout(0.4))\n",
    "\n",
    "# Add a dense layer with 64 neurons and ReLU activation\n",
    "model.add(Dense(64, activation='relu'))\n",
    "\n",
    "# Add a dropout layer with 40% dropout rate\n",
    "model.add(Dropout(0.4))\n",
    "\n",
    "# Add a dense layer with 32 neurons and ReLU activation\n",
    "model.add(Dense(32, activation='relu'))\n",
    "\n",
    "# Add a dropout layer with 40% dropout rate\n",
    "model.add(Dropout(0.4))\n",
    "\n",
    "# Add the final output layer with 1 neuron and sigmoid activation for binary classification\n",
    "model.add(Dense(1, activation='sigmoid'))\n"
   ]
  },
  {
   "cell_type": "code",
   "execution_count": 17,
   "id": "d74c35a3",
   "metadata": {},
   "outputs": [
    {
     "name": "stdout",
     "output_type": "stream",
     "text": [
      "Epoch 1/10\n",
      "1425/1425 [==============================] - 6s 4ms/step - loss: 0.0030 - accuracy: 0.9994 - val_loss: 0.0030 - val_accuracy: 0.9994\n",
      "Epoch 2/10\n",
      "1425/1425 [==============================] - 6s 4ms/step - loss: 0.0028 - accuracy: 0.9995 - val_loss: 0.0029 - val_accuracy: 0.9995\n",
      "Epoch 3/10\n",
      "1425/1425 [==============================] - 6s 4ms/step - loss: 0.0028 - accuracy: 0.9994 - val_loss: 0.0031 - val_accuracy: 0.9994\n",
      "Epoch 4/10\n",
      "1425/1425 [==============================] - 6s 4ms/step - loss: 0.0025 - accuracy: 0.9995 - val_loss: 0.0028 - val_accuracy: 0.9994\n",
      "Epoch 5/10\n",
      "1425/1425 [==============================] - 6s 4ms/step - loss: 0.0026 - accuracy: 0.9995 - val_loss: 0.0028 - val_accuracy: 0.9995\n",
      "Epoch 6/10\n",
      "1425/1425 [==============================] - 6s 4ms/step - loss: 0.0026 - accuracy: 0.9994 - val_loss: 0.0036 - val_accuracy: 0.9994\n",
      "Epoch 7/10\n",
      "1425/1425 [==============================] - 6s 4ms/step - loss: 0.0026 - accuracy: 0.9995 - val_loss: 0.0028 - val_accuracy: 0.9994\n",
      "Epoch 8/10\n",
      "1425/1425 [==============================] - 6s 4ms/step - loss: 0.0023 - accuracy: 0.9995 - val_loss: 0.0040 - val_accuracy: 0.9994\n",
      "Epoch 9/10\n",
      "1425/1425 [==============================] - 6s 4ms/step - loss: 0.0024 - accuracy: 0.9995 - val_loss: 0.0036 - val_accuracy: 0.9995\n",
      "Epoch 10/10\n",
      "1425/1425 [==============================] - 6s 4ms/step - loss: 0.0027 - accuracy: 0.9995 - val_loss: 0.0045 - val_accuracy: 0.9994\n",
      "1781/1781 [==============================] - 3s 2ms/step\n",
      "Classification Report:\n",
      "              precision    recall  f1-score   support\n",
      "\n",
      "           0       1.00      1.00      1.00     56864\n",
      "           1       0.86      0.79      0.82        98\n",
      "\n",
      "    accuracy                           1.00     56962\n",
      "   macro avg       0.93      0.89      0.91     56962\n",
      "weighted avg       1.00      1.00      1.00     56962\n",
      "\n",
      "AUC-ROC Score: 0.9865021662857603\n"
     ]
    }
   ],
   "source": [
    "# Objective function and Optimization function\n",
    "# Compile the model with binary cross-entropy loss and Adam optimizer\n",
    "model.compile(loss='binary_crossentropy', optimizer='adam', metrics=['accuracy'])\n",
    "\n",
    "# Train the model\n",
    "history = model.fit(X_train, y_train, epochs=10, batch_size=128, validation_split=0.2)\n",
    "\n",
    "# Evaluate the model on test data\n",
    "y_pred = model.predict(X_test)\n",
    "y_pred_classes = np.round(y_pred)\n",
    "\n",
    "# Print classification metrics (classification report, and AUC-ROC score)\n",
    "print('Classification Report:')\n",
    "print(classification_report(y_test, y_pred_classes))\n",
    "print('AUC-ROC Score:', roc_auc_score(y_test, y_pred))"
   ]
  },
  {
   "cell_type": "code",
   "execution_count": 11,
   "id": "9f40195a",
   "metadata": {},
   "outputs": [
    {
     "data": {
      "image/png": "[encoded data removed]",
      "text/plain": [
       "<Figure size 640x480 with 2 Axes>"
      ]
     },
     "metadata": {},
     "output_type": "display_data"
    }
   ],
   "source": [
    "from sklearn import metrics\n",
    "import matplotlib.pyplot as plt \n",
    "\n",
    "confusion_matrix = metrics.confusion_matrix(y_test, y_pred_classes)\n",
    "cm_display = metrics.ConfusionMatrixDisplay(confusion_matrix = confusion_matrix, display_labels = [False, True]) \n",
    "import matplotlib.pyplot as plt \n",
    "cm_display.plot()\n",
    "plt.show() "
   ]
  }
 ],
 "metadata": {
  "kernelspec": {
   "display_name": "Python 3 (ipykernel)",
   "language": "python",
   "name": "python3"
  },
  "language_info": {
   "codemirror_mode": {
    "name": "ipython",
    "version": 3
   },
   "file_extension": ".py",
   "mimetype": "text/x-python",
   "name": "python",
   "nbconvert_exporter": "python",
   "pygments_lexer": "ipython3",
   "version": "3.10.9"
  }
 },
 "nbformat": 4,
 "nbformat_minor": 5
}
